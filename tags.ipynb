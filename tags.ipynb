{
 "cells": [
  {
   "cell_type": "code",
   "execution_count": 29,
   "metadata": {},
   "outputs": [],
   "source": [
    "import pandas as pd"
   ]
  },
  {
   "cell_type": "code",
   "execution_count": 30,
   "metadata": {},
   "outputs": [],
   "source": [
    "raw_data = pd.read_csv('tags.csv')\n",
    "raw_data.columns.values \n",
    "# create a new dataframe with the all the columns from raw_data but 'timestamp'\n",
    "tags_df = raw_data.drop('timestamp', axis=1)"
   ]
  },
  {
   "cell_type": "code",
   "execution_count": 41,
   "metadata": {},
   "outputs": [
    {
     "name": "stdout",
     "output_type": "stream",
     "text": [
      "<class 'pandas.core.frame.DataFrame'>\n",
      "RangeIndex: 3683 entries, 0 to 3682\n",
      "Data columns (total 3 columns):\n",
      " #   Column   Non-Null Count  Dtype \n",
      "---  ------   --------------  ----- \n",
      " 0   userId   3683 non-null   int64 \n",
      " 1   movieId  3683 non-null   int64 \n",
      " 2   tag      3683 non-null   object\n",
      "dtypes: int64(2), object(1)\n",
      "memory usage: 86.4+ KB\n",
      "None\n",
      "(3683, 3)\n",
      "There are 1572 unique movies in the database\n"
     ]
    },
    {
     "data": {
      "text/html": [
       "<div>\n",
       "<style scoped>\n",
       "    .dataframe tbody tr th:only-of-type {\n",
       "        vertical-align: middle;\n",
       "    }\n",
       "\n",
       "    .dataframe tbody tr th {\n",
       "        vertical-align: top;\n",
       "    }\n",
       "\n",
       "    .dataframe thead th {\n",
       "        text-align: right;\n",
       "    }\n",
       "</style>\n",
       "<table border=\"1\" class=\"dataframe\">\n",
       "  <thead>\n",
       "    <tr style=\"text-align: right;\">\n",
       "      <th></th>\n",
       "      <th>userId</th>\n",
       "      <th>movieId</th>\n",
       "      <th>tag</th>\n",
       "    </tr>\n",
       "  </thead>\n",
       "  <tbody>\n",
       "    <tr>\n",
       "      <th>0</th>\n",
       "      <td>2</td>\n",
       "      <td>60756</td>\n",
       "      <td>funny</td>\n",
       "    </tr>\n",
       "    <tr>\n",
       "      <th>1</th>\n",
       "      <td>2</td>\n",
       "      <td>60756</td>\n",
       "      <td>Highly quotable</td>\n",
       "    </tr>\n",
       "    <tr>\n",
       "      <th>2</th>\n",
       "      <td>2</td>\n",
       "      <td>60756</td>\n",
       "      <td>will ferrell</td>\n",
       "    </tr>\n",
       "    <tr>\n",
       "      <th>3</th>\n",
       "      <td>2</td>\n",
       "      <td>89774</td>\n",
       "      <td>Boxing story</td>\n",
       "    </tr>\n",
       "    <tr>\n",
       "      <th>4</th>\n",
       "      <td>2</td>\n",
       "      <td>89774</td>\n",
       "      <td>MMA</td>\n",
       "    </tr>\n",
       "  </tbody>\n",
       "</table>\n",
       "</div>"
      ],
      "text/plain": [
       "   userId  movieId              tag\n",
       "0       2    60756            funny\n",
       "1       2    60756  Highly quotable\n",
       "2       2    60756     will ferrell\n",
       "3       2    89774     Boxing story\n",
       "4       2    89774              MMA"
      ]
     },
     "execution_count": 41,
     "metadata": {},
     "output_type": "execute_result"
    }
   ],
   "source": [
    "# print(tags_df.describe())\n",
    "# tags_df.isna().values.any()\n",
    "print(tags_df.info())\n",
    "print(tags_df.shape)\n",
    "print(f\"There are {tags_df['movieId'].nunique()} unique movies in the database\")\n",
    "tags_df.head()\n"
   ]
  },
  {
   "attachments": {},
   "cell_type": "markdown",
   "metadata": {},
   "source": [
    "##### Here's the information that I want to extract from the tags dataframe: I want to know the 3 most popular tags per movieId, then I will use this information in movie recommendation system.\n",
    "##### We can disregard userIds here as it is irrelevant - well, unless the information is biased(tags are made by only selection of users, so let's check nunique values of userId first.)"
   ]
  },
  {
   "cell_type": "code",
   "execution_count": 42,
   "metadata": {},
   "outputs": [
    {
     "name": "stdout",
     "output_type": "stream",
     "text": [
      "There are 58 unique users that are tagging movies - In my opinion that's wide enough critique range to disregard bias.\n"
     ]
    }
   ],
   "source": [
    "# get me the nunique values of userId column\n",
    "print(f\"There are {tags_df['userId'].nunique()} unique users that are tagging movies - In my opinion that's wide enough critique range to disregard bias.\")\n",
    "# We can now drop 'userId' column\n",
    "tags_df.drop('userId', axis=1, inplace=True)"
   ]
  },
  {
   "cell_type": "code",
   "execution_count": 45,
   "metadata": {},
   "outputs": [],
   "source": [
    "# extract the 5 most popular tags per movieid, take only unique movieids. Then merge the 3 tags into one column across movieid column\n",
    "top_tags_per_movie_df = tags_df.groupby('movieId').head(5).groupby('movieId').agg({'tag': ', '.join}).reset_index()\n",
    "top_tags_per_movie_df.head(20)\n",
    "# Let's create a checkpoint of this dataframe and copy it\n",
    "tags_per_movie_df = top_tags_per_movie_df.copy()\n",
    "# Now I want to extract top_tags_per_movie_df into a file to use in another .ipynb file\n",
    "tags_per_movie_df.to_csv('tags_per_movie.csv', index=False)"
   ]
  },
  {
   "attachments": {},
   "cell_type": "markdown",
   "metadata": {},
   "source": [
    "#### Preprocessing of tags is thereby finished and we can use this dataframe in our project."
   ]
  }
 ],
 "metadata": {
  "kernelspec": {
   "display_name": "py3-TF2.0",
   "language": "python",
   "name": "python3"
  },
  "language_info": {
   "codemirror_mode": {
    "name": "ipython",
    "version": 3
   },
   "file_extension": ".py",
   "mimetype": "text/x-python",
   "name": "python",
   "nbconvert_exporter": "python",
   "pygments_lexer": "ipython3",
   "version": "3.10.9"
  },
  "orig_nbformat": 4,
  "vscode": {
   "interpreter": {
    "hash": "9c37943d24cdbac2d48fb4caff81c0df6201526a0b3d09ba3b6f595b08118ef9"
   }
  }
 },
 "nbformat": 4,
 "nbformat_minor": 2
}
